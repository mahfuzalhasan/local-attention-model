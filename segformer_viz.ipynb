{
 "cells": [
  {
   "cell_type": "code",
   "execution_count": 6,
   "metadata": {},
   "outputs": [
    {
     "name": "stdout",
     "output_type": "stream",
     "text": [
      "current working dirC:\\Users\\abjawad\\Documents\\GitHub\\local-attention-model\n"
     ]
    }
   ],
   "source": [
    "import os, sys\n",
    "currentFolder = os.path.abspath('')\n",
    "try:\n",
    "    sys.path.remove(str(currentFolder))\n",
    "except ValueError: # Already removed\n",
    "    pass\n",
    "\n",
    "projectFolder = 'C:/Users/abjawad/Documents/GitHub/local-attention-model'\n",
    "sys.path.append(str(projectFolder))\n",
    "os.chdir(projectFolder)\n",
    "print( f\"current working dir{os.getcwd()}\")"
   ]
  },
  {
   "cell_type": "code",
   "execution_count": 7,
   "metadata": {},
   "outputs": [],
   "source": [
    "\n",
    "import torch\n",
    "from  torch.utils.data import DataLoader\n",
    "import torch.nn as nn\n",
    "from models.builder import EncoderDecoder as segmodel\n",
    "from dataloader.cfg_defaults import get_cfg_defaults\n",
    "from utils.lr_policy import WarmUpPolyLR\n",
    "from utils.init_func import init_weight, group_weight\n",
    "from config_cityscapes import *\n",
    "import yaml\n",
    "import os\n",
    "from dataloader.cityscapes_dataloader import CityscapesDataset"
   ]
  },
  {
   "cell_type": "code",
   "execution_count": 8,
   "metadata": {},
   "outputs": [],
   "source": [
    "config_path = 'C:/Users/abjawad/Documents/GitHub/local-attention-model/dataloader/cityscapes_rgbd_config.yaml'\n",
    "# with open(config_path) as info:\n",
    "#     info_dict = yaml.load(info, Loader=yaml.FullLoader)\n",
    "cfg = get_cfg_defaults()\n",
    "cfg.merge_from_file(config_path)\n",
    "cfg.freeze()\n",
    "\n",
    "data_mean = [0.291,  0.329,  0.291]\n",
    "data_std = [0.190,  0.190,  0.185]"
   ]
  },
  {
   "cell_type": "code",
   "execution_count": 9,
   "metadata": {},
   "outputs": [
    {
     "name": "stdout",
     "output_type": "stream",
     "text": [
      "Using RGB input\n",
      "Using RGB input\n",
      "Found 2975 train images\n",
      "total train: 2975 t_iteration:743\n",
      "Using RGB input\n",
      "Using RGB input\n",
      "Found 500 val images\n",
      "total val: 500 v_iteration:500\n"
     ]
    }
   ],
   "source": [
    "cityscapes_train = CityscapesDataset(cfg, split='train')\n",
    "train_loader = DataLoader(cityscapes_train, batch_size=4, shuffle=True, num_workers=4, drop_last=True)\n",
    "print(f'total train: {len(cityscapes_train)} t_iteration:{len(train_loader)}')\n",
    "\n",
    "cityscapes_val = CityscapesDataset(cfg, split='val')\n",
    "val_loader = DataLoader(cityscapes_val, batch_size=1, shuffle=False, num_workers=4)\n",
    "print(f'total val: {len(cityscapes_val)} v_iteration:{len(val_loader)}')"
   ]
  },
  {
   "cell_type": "markdown",
   "metadata": {},
   "source": [
    "#### Visualiz Image "
   ]
  },
  {
   "cell_type": "code",
   "execution_count": 10,
   "metadata": {},
   "outputs": [
    {
     "ename": "ValueError",
     "evalue": "Caught ValueError in DataLoader worker process 0.\nOriginal Traceback (most recent call last):\n  File \"c:\\Users\\abjawad\\.conda\\envs\\pt_cuda\\lib\\site-packages\\torch\\utils\\data\\_utils\\worker.py\", line 302, in _worker_loop\n    data = fetcher.fetch(index)\n  File \"c:\\Users\\abjawad\\.conda\\envs\\pt_cuda\\lib\\site-packages\\torch\\utils\\data\\_utils\\fetch.py\", line 58, in fetch\n    data = [self.dataset[idx] for idx in possibly_batched_index]\n  File \"c:\\Users\\abjawad\\.conda\\envs\\pt_cuda\\lib\\site-packages\\torch\\utils\\data\\_utils\\fetch.py\", line 58, in <listcomp>\n    data = [self.dataset[idx] for idx in possibly_batched_index]\n  File \"C:\\Users\\abjawad\\Documents\\GitHub\\local-attention-model\\dataloader\\cityscapes_dataloader.py\", line 57, in __getitem__\n    sample = self.loader.load_sample(img_path, depth_path, lbl_path)\n  File \"C:\\Users\\abjawad\\Documents\\GitHub\\local-attention-model\\dataloader\\cityscapes_dataloader_utils\\SampleLoader.py\", line 53, in load_sample\n    sample = self.transform_tr(sample)\n  File \"C:\\Users\\abjawad\\Documents\\GitHub\\local-attention-model\\dataloader\\cityscapes_dataloader_utils\\SampleLoader.py\", line 122, in transform_tr\n    return composed_transforms(sample)\n  File \"c:\\Users\\abjawad\\.conda\\envs\\pt_cuda\\lib\\site-packages\\torchvision\\transforms\\transforms.py\", line 95, in __call__\n    img = t(img)\n  File \"C:\\Users\\abjawad\\Documents\\GitHub\\local-attention-model\\dataloader\\cityscapes_dataloader_utils\\custom_transforms.py\", line 80, in __call__\n    img = img.transpose(Image.FLIP_LEFT_RIGHT)\nValueError: axes don't match array\n",
     "output_type": "error",
     "traceback": [
      "\u001b[1;31m---------------------------------------------------------------------------\u001b[0m",
      "\u001b[1;31mValueError\u001b[0m                                Traceback (most recent call last)",
      "\u001b[1;32mc:\\Users\\abjawad\\Documents\\GitHub\\local-attention-model\\segformer_viz.ipynb Cell 6\u001b[0m line \u001b[0;36m5\n\u001b[0;32m      <a href='vscode-notebook-cell:/c%3A/Users/abjawad/Documents/GitHub/local-attention-model/segformer_viz.ipynb#W5sZmlsZQ%3D%3D?line=1'>2</a>\u001b[0m \u001b[39mimport\u001b[39;00m \u001b[39mnumpy\u001b[39;00m \u001b[39mas\u001b[39;00m \u001b[39mnp\u001b[39;00m\n\u001b[0;32m      <a href='vscode-notebook-cell:/c%3A/Users/abjawad/Documents/GitHub/local-attention-model/segformer_viz.ipynb#W5sZmlsZQ%3D%3D?line=3'>4</a>\u001b[0m \u001b[39m# Access the first batch from the DataLoader\u001b[39;00m\n\u001b[1;32m----> <a href='vscode-notebook-cell:/c%3A/Users/abjawad/Documents/GitHub/local-attention-model/segformer_viz.ipynb#W5sZmlsZQ%3D%3D?line=4'>5</a>\u001b[0m \u001b[39mfor\u001b[39;00m batch \u001b[39min\u001b[39;00m train_loader:\n\u001b[0;32m      <a href='vscode-notebook-cell:/c%3A/Users/abjawad/Documents/GitHub/local-attention-model/segformer_viz.ipynb#W5sZmlsZQ%3D%3D?line=5'>6</a>\u001b[0m     images \u001b[39m=\u001b[39m batch[\u001b[39m'\u001b[39m\u001b[39mimage\u001b[39m\u001b[39m'\u001b[39m]\n\u001b[0;32m      <a href='vscode-notebook-cell:/c%3A/Users/abjawad/Documents/GitHub/local-attention-model/segformer_viz.ipynb#W5sZmlsZQ%3D%3D?line=7'>8</a>\u001b[0m     \u001b[39m# Process each image in the batch\u001b[39;00m\n",
      "File \u001b[1;32mc:\\Users\\abjawad\\.conda\\envs\\pt_cuda\\lib\\site-packages\\torch\\utils\\data\\dataloader.py:628\u001b[0m, in \u001b[0;36m_BaseDataLoaderIter.__next__\u001b[1;34m(self)\u001b[0m\n\u001b[0;32m    625\u001b[0m \u001b[39mif\u001b[39;00m \u001b[39mself\u001b[39m\u001b[39m.\u001b[39m_sampler_iter \u001b[39mis\u001b[39;00m \u001b[39mNone\u001b[39;00m:\n\u001b[0;32m    626\u001b[0m     \u001b[39m# TODO(https://github.com/pytorch/pytorch/issues/76750)\u001b[39;00m\n\u001b[0;32m    627\u001b[0m     \u001b[39mself\u001b[39m\u001b[39m.\u001b[39m_reset()  \u001b[39m# type: ignore[call-arg]\u001b[39;00m\n\u001b[1;32m--> 628\u001b[0m data \u001b[39m=\u001b[39m \u001b[39mself\u001b[39;49m\u001b[39m.\u001b[39;49m_next_data()\n\u001b[0;32m    629\u001b[0m \u001b[39mself\u001b[39m\u001b[39m.\u001b[39m_num_yielded \u001b[39m+\u001b[39m\u001b[39m=\u001b[39m \u001b[39m1\u001b[39m\n\u001b[0;32m    630\u001b[0m \u001b[39mif\u001b[39;00m \u001b[39mself\u001b[39m\u001b[39m.\u001b[39m_dataset_kind \u001b[39m==\u001b[39m _DatasetKind\u001b[39m.\u001b[39mIterable \u001b[39mand\u001b[39;00m \\\n\u001b[0;32m    631\u001b[0m         \u001b[39mself\u001b[39m\u001b[39m.\u001b[39m_IterableDataset_len_called \u001b[39mis\u001b[39;00m \u001b[39mnot\u001b[39;00m \u001b[39mNone\u001b[39;00m \u001b[39mand\u001b[39;00m \\\n\u001b[0;32m    632\u001b[0m         \u001b[39mself\u001b[39m\u001b[39m.\u001b[39m_num_yielded \u001b[39m>\u001b[39m \u001b[39mself\u001b[39m\u001b[39m.\u001b[39m_IterableDataset_len_called:\n",
      "File \u001b[1;32mc:\\Users\\abjawad\\.conda\\envs\\pt_cuda\\lib\\site-packages\\torch\\utils\\data\\dataloader.py:1333\u001b[0m, in \u001b[0;36m_MultiProcessingDataLoaderIter._next_data\u001b[1;34m(self)\u001b[0m\n\u001b[0;32m   1331\u001b[0m \u001b[39melse\u001b[39;00m:\n\u001b[0;32m   1332\u001b[0m     \u001b[39mdel\u001b[39;00m \u001b[39mself\u001b[39m\u001b[39m.\u001b[39m_task_info[idx]\n\u001b[1;32m-> 1333\u001b[0m     \u001b[39mreturn\u001b[39;00m \u001b[39mself\u001b[39;49m\u001b[39m.\u001b[39;49m_process_data(data)\n",
      "File \u001b[1;32mc:\\Users\\abjawad\\.conda\\envs\\pt_cuda\\lib\\site-packages\\torch\\utils\\data\\dataloader.py:1359\u001b[0m, in \u001b[0;36m_MultiProcessingDataLoaderIter._process_data\u001b[1;34m(self, data)\u001b[0m\n\u001b[0;32m   1357\u001b[0m \u001b[39mself\u001b[39m\u001b[39m.\u001b[39m_try_put_index()\n\u001b[0;32m   1358\u001b[0m \u001b[39mif\u001b[39;00m \u001b[39misinstance\u001b[39m(data, ExceptionWrapper):\n\u001b[1;32m-> 1359\u001b[0m     data\u001b[39m.\u001b[39;49mreraise()\n\u001b[0;32m   1360\u001b[0m \u001b[39mreturn\u001b[39;00m data\n",
      "File \u001b[1;32mc:\\Users\\abjawad\\.conda\\envs\\pt_cuda\\lib\\site-packages\\torch\\_utils.py:543\u001b[0m, in \u001b[0;36mExceptionWrapper.reraise\u001b[1;34m(self)\u001b[0m\n\u001b[0;32m    539\u001b[0m \u001b[39mexcept\u001b[39;00m \u001b[39mTypeError\u001b[39;00m:\n\u001b[0;32m    540\u001b[0m     \u001b[39m# If the exception takes multiple arguments, don't try to\u001b[39;00m\n\u001b[0;32m    541\u001b[0m     \u001b[39m# instantiate since we don't know how to\u001b[39;00m\n\u001b[0;32m    542\u001b[0m     \u001b[39mraise\u001b[39;00m \u001b[39mRuntimeError\u001b[39;00m(msg) \u001b[39mfrom\u001b[39;00m \u001b[39mNone\u001b[39;00m\n\u001b[1;32m--> 543\u001b[0m \u001b[39mraise\u001b[39;00m exception\n",
      "\u001b[1;31mValueError\u001b[0m: Caught ValueError in DataLoader worker process 0.\nOriginal Traceback (most recent call last):\n  File \"c:\\Users\\abjawad\\.conda\\envs\\pt_cuda\\lib\\site-packages\\torch\\utils\\data\\_utils\\worker.py\", line 302, in _worker_loop\n    data = fetcher.fetch(index)\n  File \"c:\\Users\\abjawad\\.conda\\envs\\pt_cuda\\lib\\site-packages\\torch\\utils\\data\\_utils\\fetch.py\", line 58, in fetch\n    data = [self.dataset[idx] for idx in possibly_batched_index]\n  File \"c:\\Users\\abjawad\\.conda\\envs\\pt_cuda\\lib\\site-packages\\torch\\utils\\data\\_utils\\fetch.py\", line 58, in <listcomp>\n    data = [self.dataset[idx] for idx in possibly_batched_index]\n  File \"C:\\Users\\abjawad\\Documents\\GitHub\\local-attention-model\\dataloader\\cityscapes_dataloader.py\", line 57, in __getitem__\n    sample = self.loader.load_sample(img_path, depth_path, lbl_path)\n  File \"C:\\Users\\abjawad\\Documents\\GitHub\\local-attention-model\\dataloader\\cityscapes_dataloader_utils\\SampleLoader.py\", line 53, in load_sample\n    sample = self.transform_tr(sample)\n  File \"C:\\Users\\abjawad\\Documents\\GitHub\\local-attention-model\\dataloader\\cityscapes_dataloader_utils\\SampleLoader.py\", line 122, in transform_tr\n    return composed_transforms(sample)\n  File \"c:\\Users\\abjawad\\.conda\\envs\\pt_cuda\\lib\\site-packages\\torchvision\\transforms\\transforms.py\", line 95, in __call__\n    img = t(img)\n  File \"C:\\Users\\abjawad\\Documents\\GitHub\\local-attention-model\\dataloader\\cityscapes_dataloader_utils\\custom_transforms.py\", line 80, in __call__\n    img = img.transpose(Image.FLIP_LEFT_RIGHT)\nValueError: axes don't match array\n"
     ]
    }
   ],
   "source": [
    "import matplotlib.pyplot as plt\n",
    "import numpy as np\n",
    "\n",
    "# Access the first batch from the DataLoader\n",
    "for batch in train_loader:\n",
    "    images = batch['image']\n",
    "\n",
    "    # Process each image in the batch\n",
    "    for i in range(images.shape[0]):\n",
    "        img = images[i].numpy().transpose((1, 2, 0))\n",
    "        img *= data_std\n",
    "        img += data_mean\n",
    "\n",
    "        # print(img.shape)\n",
    "    #     # Plot the image in the subplot\n",
    "    #     plt.subplot(1, 4, i + 1)  # 1 row, 4 columns, i+1 is the current subplot\n",
    "    #     plt.imshow(img)\n",
    "    #     plt.axis('off')\n",
    "\n",
    "    # plt.show()\n",
    "\n",
    "    # Break the loop after the first batch\n",
    "    break\n"
   ]
  },
  {
   "cell_type": "code",
   "execution_count": null,
   "metadata": {},
   "outputs": [],
   "source": [
    "# write some error to stop notebook at this point\n",
    "assert False, \"Stop notebook here\""
   ]
  },
  {
   "cell_type": "code",
   "execution_count": null,
   "metadata": {},
   "outputs": [],
   "source": []
  },
  {
   "cell_type": "code",
   "execution_count": null,
   "metadata": {},
   "outputs": [],
   "source": []
  },
  {
   "cell_type": "code",
   "execution_count": null,
   "metadata": {},
   "outputs": [],
   "source": [
    "criterion = nn.CrossEntropyLoss(reduction='mean', ignore_index=config.background)\n",
    "BatchNorm2d = nn.BatchNorm2d\n",
    "model=segmodel(cfg=config, criterion=criterion, norm_layer=BatchNorm2d)\n",
    "\n",
    "params_list = []\n",
    "params_list = group_weight(params_list, model, BatchNorm2d, config.lr)        \n",
    "optimizer = torch.optim.AdamW(params_list, lr=config.lr, betas=(0.9, 0.999), weight_decay=config.weight_decay)\n",
    "total_iteration = config.nepochs * config.niters_per_epoch\n",
    "lr_policy = WarmUpPolyLR(config.lr, config.lr_power, total_iteration, config.niters_per_epoch * config.warm_up_epoch)\n",
    "print(f'lr_policy:{vars(lr_policy)}')\n",
    "\n",
    "\n",
    "\n",
    "for epoch in range(1, 2):\n",
    "    model.train()\n",
    "    optimizer.zero_grad()\n",
    "    sum_loss = 0\n",
    "    m_iou_batches = 0\n",
    "    for idx, sample in enumerate(train_loader):\n",
    "        imgs = sample['image']\n",
    "        gts = sample['label']\n",
    "        imgs = imgs.to(f'cuda:{model.device_ids[0]}', non_blocking=True)\n",
    "        gts = gts.to(f'cuda:{model.device_ids[0]}', non_blocking=True)  \n",
    "\n",
    "        print('images shape', imgs.shape)\n",
    "        print('gts shape', gts.shape)\n",
    "        # loss, out = model(imgs, gts)\n",
    "        # optimizer.zero_grad()\n",
    "        # loss.backward()\n",
    "        # optimizer.step()\n",
    "        # sum_loss += loss\n",
    "        # print(f'epoch:{epoch} iteration:{idx} loss:{loss}')\n",
    "        break\n",
    "    # print(f'epoch:{epoch}')"
   ]
  }
 ],
 "metadata": {
  "kernelspec": {
   "display_name": "pt_cuda",
   "language": "python",
   "name": "python3"
  },
  "language_info": {
   "codemirror_mode": {
    "name": "ipython",
    "version": 3
   },
   "file_extension": ".py",
   "mimetype": "text/x-python",
   "name": "python",
   "nbconvert_exporter": "python",
   "pygments_lexer": "ipython3",
   "version": "3.10.13"
  }
 },
 "nbformat": 4,
 "nbformat_minor": 2
}
