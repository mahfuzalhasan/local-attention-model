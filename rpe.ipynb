{
 "cells": [
  {
   "cell_type": "code",
   "execution_count": 2,
   "metadata": {},
   "outputs": [],
   "source": [
    "import torch"
   ]
  },
  {
   "cell_type": "code",
   "execution_count": 28,
   "metadata": {},
   "outputs": [
    {
     "name": "stdout",
     "output_type": "stream",
     "text": [
      "coords_flatten.shape:  torch.Size([2, 9])\n",
      "coords_flatten.shape:  torch.Size([2, 9, 1])\n",
      "relative_coords.shape:  torch.Size([2, 9, 9])\n",
      "relative_coords values:  tensor(-2) tensor(0)\n",
      "tensor([[12, 11, 10,  7,  6,  5,  2,  1,  0],\n",
      "        [13, 12, 11,  8,  7,  6,  3,  2,  1],\n",
      "        [14, 13, 12,  9,  8,  7,  4,  3,  2],\n",
      "        [17, 16, 15, 12, 11, 10,  7,  6,  5],\n",
      "        [18, 17, 16, 13, 12, 11,  8,  7,  6],\n",
      "        [19, 18, 17, 14, 13, 12,  9,  8,  7],\n",
      "        [22, 21, 20, 17, 16, 15, 12, 11, 10],\n",
      "        [23, 22, 21, 18, 17, 16, 13, 12, 11],\n",
      "        [24, 23, 22, 19, 18, 17, 14, 13, 12]])\n"
     ]
    }
   ],
   "source": [
    "def get_relative_position_index(win_h: int, win_w: int) -> torch.Tensor:\n",
    "    \"\"\"Function to generate pair-wise relative position index for each token inside the window.\n",
    "        Taken from Timms Swin V1 implementation.\n",
    "    Args:\n",
    "        win_h (int): Window/Grid height.\n",
    "        win_w (int): Window/Grid width.\n",
    "    Returns:\n",
    "        relative_coords (torch.Tensor): Pair-wise relative position indexes [height * width, height * width].\n",
    "    \"\"\"\n",
    "    coords = torch.stack(torch.meshgrid([torch.arange(win_h), torch.arange(win_w)]))\n",
    "    # print(coords.shape)\n",
    "    coords_flatten = torch.flatten(coords, 1)\n",
    "    print('coords_flatten.shape: ', coords_flatten.shape)\n",
    "    print('coords_flatten.shape: ', coords_flatten[:,:,None].shape)\n",
    "    relative_coords = coords_flatten[:, :, None] - coords_flatten[:, None, :]\n",
    "    print('relative_coords.shape: ', relative_coords.shape)\n",
    "    relative_coords = relative_coords.permute(1, 2, 0).contiguous()\n",
    "    print('relative_coords values: ', relative_coords[2, 8, 0], relative_coords[2, 8, 1])\n",
    "    relative_coords[:, :, 0] += win_h - 1\n",
    "    relative_coords[:, :, 1] += win_w - 1\n",
    "    relative_coords[:, :, 0] *= 2 * win_w - 1\n",
    "    \n",
    "    print('relative_coords values after: ', relative_coords[2, 8, 0], relative_coords[2, 8, 1])\n",
    "    return relative_coords.sum(-1)\n",
    "\n",
    "print(get_relative_position_index(3, 3))\n"
   ]
  },
  {
   "cell_type": "code",
   "execution_count": 20,
   "metadata": {},
   "outputs": [
    {
     "data": {
      "text/plain": [
       "tensor([[[0, 0, 0],\n",
       "         [1, 1, 1],\n",
       "         [2, 2, 2]],\n",
       "\n",
       "        [[0, 1, 2],\n",
       "         [0, 1, 2],\n",
       "         [0, 1, 2]]])"
      ]
     },
     "execution_count": 20,
     "metadata": {},
     "output_type": "execute_result"
    }
   ],
   "source": [
    "coords = torch.stack(torch.meshgrid([torch.arange(win_h), torch.arange(win_w)]))\n",
    "coords\n"
   ]
  },
  {
   "cell_type": "code",
   "execution_count": 24,
   "metadata": {},
   "outputs": [
    {
     "name": "stdout",
     "output_type": "stream",
     "text": [
      "coords_flatten.shape:  torch.Size([2, 9])\n",
      "coords_flatten.shape:  torch.Size([2, 9, 1])\n",
      "relative_coords.shape:  torch.Size([2, 9, 9])\n",
      "relative_coords values:  tensor(0) tensor(2)\n",
      "tensor([[12, 11, 10,  7,  6,  5,  2,  1,  0],\n",
      "        [13, 12, 11,  8,  7,  6,  3,  2,  1],\n",
      "        [14, 13, 12,  9,  8,  7,  4,  3,  2],\n",
      "        [17, 16, 15, 12, 11, 10,  7,  6,  5],\n",
      "        [18, 17, 16, 13, 12, 11,  8,  7,  6],\n",
      "        [19, 18, 17, 14, 13, 12,  9,  8,  7],\n",
      "        [22, 21, 20, 17, 16, 15, 12, 11, 10],\n",
      "        [23, 22, 21, 18, 17, 16, 13, 12, 11],\n",
      "        [24, 23, 22, 19, 18, 17, 14, 13, 12]])\n"
     ]
    }
   ],
   "source": [
    "print(get_relative_position_index(3, 3))\n"
   ]
  },
  {
   "cell_type": "code",
   "execution_count": 11,
   "metadata": {},
   "outputs": [
    {
     "data": {
      "text/plain": [
       "tensor([[[0, 0, 0],\n",
       "         [1, 1, 1],\n",
       "         [2, 2, 2]],\n",
       "\n",
       "        [[0, 1, 2],\n",
       "         [0, 1, 2],\n",
       "         [0, 1, 2]]])"
      ]
     },
     "execution_count": 11,
     "metadata": {},
     "output_type": "execute_result"
    }
   ],
   "source": [
    "win_h, win_w = 3, 3\n",
    "torch.stack(torch.meshgrid([torch.arange(win_h), torch.arange(win_w)]))"
   ]
  },
  {
   "cell_type": "code",
   "execution_count": null,
   "metadata": {},
   "outputs": [],
   "source": []
  }
 ],
 "metadata": {
  "kernelspec": {
   "display_name": "kd",
   "language": "python",
   "name": "python3"
  },
  "language_info": {
   "codemirror_mode": {
    "name": "ipython",
    "version": 3
   },
   "file_extension": ".py",
   "mimetype": "text/x-python",
   "name": "python",
   "nbconvert_exporter": "python",
   "pygments_lexer": "ipython3",
   "version": "3.10.11"
  }
 },
 "nbformat": 4,
 "nbformat_minor": 2
}
