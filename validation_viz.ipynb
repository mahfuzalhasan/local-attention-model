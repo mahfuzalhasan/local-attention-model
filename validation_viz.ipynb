{
 "cells": [
  {
   "cell_type": "code",
   "execution_count": 1,
   "metadata": {},
   "outputs": [
    {
     "name": "stdout",
     "output_type": "stream",
     "text": [
      "current working dirC:\\Users\\abjawad\\Documents\\GitHub\\local-attention-model\n"
     ]
    }
   ],
   "source": [
    "import os, sys\n",
    "currentFolder = os.path.abspath('')\n",
    "try:\n",
    "    sys.path.remove(str(currentFolder))\n",
    "except ValueError: # Already removed\n",
    "    pass\n",
    "\n",
    "projectFolder = 'C:/Users/abjawad/Documents/GitHub/local-attention-model'\n",
    "sys.path.append(str(projectFolder))\n",
    "os.chdir(projectFolder)\n",
    "print( f\"current working dir{os.getcwd()}\")"
   ]
  },
  {
   "cell_type": "code",
   "execution_count": 2,
   "metadata": {},
   "outputs": [
    {
     "name": "stderr",
     "output_type": "stream",
     "text": [
      "c:\\Users\\abjawad\\.conda\\envs\\pt_cuda\\lib\\site-packages\\tqdm\\auto.py:21: TqdmWarning: IProgress not found. Please update jupyter and ipywidgets. See https://ipywidgets.readthedocs.io/en/stable/user_install.html\n",
      "  from .autonotebook import tqdm as notebook_tqdm\n",
      "c:\\Users\\abjawad\\.conda\\envs\\pt_cuda\\lib\\site-packages\\torchaudio\\backend\\utils.py:62: UserWarning: No audio backend is available.\n",
      "  warnings.warn(\"No audio backend is available.\")\n"
     ]
    }
   ],
   "source": [
    "import torch\n",
    "from  torch.utils.data import DataLoader\n",
    "import torch.nn as nn\n",
    "from models.builder import EncoderDecoder as segmodel\n",
    "from dataloader.cfg_defaults import get_cfg_defaults\n",
    "from utils.lr_policy import WarmUpPolyLR\n",
    "from utils.init_func import init_weight, group_weight\n",
    "from config_cityscapes import *\n",
    "import yaml\n",
    "import os\n",
    "from dataloader.cityscapes_dataloader import CityscapesDataset\n",
    "from val_segformer_rgbonly import val_cityscape\n",
    "import matplotlib.pyplot as plt\n",
    "import numpy as np"
   ]
  },
  {
   "cell_type": "code",
   "execution_count": 3,
   "metadata": {},
   "outputs": [],
   "source": [
    "config_path = 'C:/Users/abjawad/Documents/GitHub/local-attention-model/dataloader/cityscapes_rgbd_config.yaml'\n",
    "# with open(config_path) as info:\n",
    "#     info_dict = yaml.load(info, Loader=yaml.FullLoader)\n",
    "cfg = get_cfg_defaults()\n",
    "cfg.merge_from_file(config_path)\n",
    "cfg.freeze()\n",
    "\n",
    "data_mean = [0.291, 0.329, 0.291]\n",
    "data_std = [0.190, 0.190, 0.185]"
   ]
  },
  {
   "cell_type": "code",
   "execution_count": 4,
   "metadata": {},
   "outputs": [
    {
     "name": "stdout",
     "output_type": "stream",
     "text": [
      "Using RGB input\n",
      "Using RGB input\n",
      "Found 500 val images\n",
      "total test sample: 500 v_iteration:500\n"
     ]
    }
   ],
   "source": [
    "cityscapes_test = CityscapesDataset(cfg, split='val')\n",
    "test_loader = DataLoader(cityscapes_test, batch_size=1, shuffle=False, num_workers=4) \n",
    "print(f'total test sample: {len(cityscapes_test)} v_iteration:{len(test_loader)}')\n",
    "\n"
   ]
  },
  {
   "cell_type": "code",
   "execution_count": 5,
   "metadata": {},
   "outputs": [
    {
     "name": "stdout",
     "output_type": "stream",
     "text": [
      "torch.Size([3, 1024, 2048])\n",
      "torch.Size([1, 3, 1024, 2048])\n"
     ]
    }
   ],
   "source": [
    "for i, data in enumerate(test_loader):\n",
    "    img = data['image']\n",
    "    # Split the [ 1, 3, 1024, 2048] image into two [3, 1024, 1024] images\n",
    "    # img1 = img[:, :, 0:1024]\n",
    "    # img2 = img[:, :, 1024:2048]\n",
    "\n",
    "\n",
    "    img1, img2 = np.split(img.squeeze(), 2, axis=2)\n",
    "\n",
    "    out = torch.cat((img1, img2), dim=2)\n",
    "    \n",
    "    print(out.shape)\n",
    "\n",
    "    # add a dimentation to the image\n",
    "    out = out.unsqueeze(0)\n",
    "\n",
    "    print(out.shape)\n",
    "\n",
    "    # print(img1.shape, img2.shape, out.shape)\n",
    "\n",
    "    # # Create a figure for plotting\n",
    "    # fig, axes = plt.subplots(1, 2)\n",
    "\n",
    "    # # Plot the first image\n",
    "    # axes[0].imshow(np.transpose(img1, (1, 2, 0)))  # Transpose the axes for correct display\n",
    "    # axes[0].set_title('Image 1')\n",
    "    # axes[0].axis('off')\n",
    "\n",
    "    # # Plot the second image\n",
    "    # axes[1].imshow(np.transpose(img2, (1, 2, 0)))  # Transpose the axes for correct display\n",
    "    # axes[1].set_title('Image 2')\n",
    "    # axes[1].axis('off')\n",
    "\n",
    "    # plt.show()\n",
    "\n",
    "    break\n"
   ]
  },
  {
   "cell_type": "code",
   "execution_count": 6,
   "metadata": {},
   "outputs": [
    {
     "name": "stderr",
     "output_type": "stream",
     "text": [
      "\u001b[32m15 16:49:55 \u001b[0mUsing backbone: Segformer-B2\n",
      "\u001b[32m15 16:49:56 \u001b[0mUsing MLP Decoder\n"
     ]
    },
    {
     "name": "stdout",
     "output_type": "stream",
     "text": [
      "model loaded\n"
     ]
    }
   ],
   "source": [
    "criterion = nn.CrossEntropyLoss(reduction='mean', ignore_index=config.background)\n",
    "model = segmodel(cfg=config, criterion=criterion, norm_layer=nn.BatchNorm2d, test=True)\n",
    "model = nn.DataParallel(model, device_ids = config.device_ids)\n",
    "# model.to(f'cuda:{model.device_ids[0]}', non_blocking=True)\n",
    "\n",
    "# <----------------- load model ----------------->\n",
    "# saved_model_path = os.path.join(config.checkpoint_dir, \"09-12-23_1501\", 'model_400.pth')\n",
    "# print(saved_model_path)\n",
    "# # exit()\n",
    "state_dict = model.state_dict()\n",
    "# model.load_state_dict(state_dict['model'], strict=True)\n",
    "print(f'model loaded')\n",
    "# epoch = state_dict['epoch']\n",
    "\n",
    "# # model.eval()\n"
   ]
  },
  {
   "cell_type": "code",
   "execution_count": 7,
   "metadata": {},
   "outputs": [
    {
     "name": "stdout",
     "output_type": "stream",
     "text": [
      "imgs:torch.Size([1, 3, 1024, 2048]) gts:torch.Size([1, 1024, 2048])\n",
      "img1:torch.Size([1, 3, 1024, 1024]) img2:torch.Size([1, 3, 1024, 1024])\n",
      "gts1:torch.Size([1, 1024, 1024]) gts2:torch.Size([1, 1024, 1024])\n",
      "out shape:  torch.Size([1, 19, 1024, 2048]) torch.Size([1, 19, 1024, 1024]) torch.Size([1, 19, 1024, 1024])\n"
     ]
    },
    {
     "ename": "RuntimeError",
     "evalue": "Encountered different devices in metric calculation (see stacktrace for details). This could be due to the metric class not being on the same device as input. Instead of `metric=MulticlassJaccardIndex(...)` try to do `metric=MulticlassJaccardIndex(...).to(device)` where device corresponds to the device of the input.",
     "output_type": "error",
     "traceback": [
      "\u001b[1;31m---------------------------------------------------------------------------\u001b[0m",
      "\u001b[1;31mRuntimeError\u001b[0m                              Traceback (most recent call last)",
      "File \u001b[1;32mc:\\Users\\abjawad\\.conda\\envs\\pt_cuda\\lib\\site-packages\\torchmetrics\\metric.py:457\u001b[0m, in \u001b[0;36mMetric._wrap_update.<locals>.wrapped_func\u001b[1;34m(*args, **kwargs)\u001b[0m\n\u001b[0;32m    456\u001b[0m \u001b[39mtry\u001b[39;00m:\n\u001b[1;32m--> 457\u001b[0m     update(\u001b[39m*\u001b[39margs, \u001b[39m*\u001b[39m\u001b[39m*\u001b[39mkwargs)\n\u001b[0;32m    458\u001b[0m \u001b[39mexcept\u001b[39;00m \u001b[39mRuntimeError\u001b[39;00m \u001b[39mas\u001b[39;00m err:\n",
      "File \u001b[1;32mc:\\Users\\abjawad\\.conda\\envs\\pt_cuda\\lib\\site-packages\\torchmetrics\\classification\\confusion_matrix.py:280\u001b[0m, in \u001b[0;36mMulticlassConfusionMatrix.update\u001b[1;34m(self, preds, target)\u001b[0m\n\u001b[0;32m    279\u001b[0m preds, target \u001b[39m=\u001b[39m _multiclass_confusion_matrix_format(preds, target, \u001b[39mself\u001b[39m\u001b[39m.\u001b[39mignore_index)\n\u001b[1;32m--> 280\u001b[0m confmat \u001b[39m=\u001b[39m _multiclass_confusion_matrix_update(preds, target, \u001b[39mself\u001b[39;49m\u001b[39m.\u001b[39;49mnum_classes)\n\u001b[0;32m    281\u001b[0m \u001b[39mself\u001b[39m\u001b[39m.\u001b[39mconfmat \u001b[39m+\u001b[39m\u001b[39m=\u001b[39m confmat\n",
      "File \u001b[1;32mc:\\Users\\abjawad\\.conda\\envs\\pt_cuda\\lib\\site-packages\\torchmetrics\\functional\\classification\\confusion_matrix.py:335\u001b[0m, in \u001b[0;36m_multiclass_confusion_matrix_update\u001b[1;34m(preds, target, num_classes)\u001b[0m\n\u001b[0;32m    334\u001b[0m \u001b[39m\u001b[39m\u001b[39m\"\"\"Compute the bins to update the confusion matrix with.\"\"\"\u001b[39;00m\n\u001b[1;32m--> 335\u001b[0m unique_mapping \u001b[39m=\u001b[39m target\u001b[39m.\u001b[39;49mto(torch\u001b[39m.\u001b[39;49mlong) \u001b[39m*\u001b[39;49m num_classes \u001b[39m+\u001b[39;49m preds\u001b[39m.\u001b[39;49mto(torch\u001b[39m.\u001b[39;49mlong)\n\u001b[0;32m    336\u001b[0m bins \u001b[39m=\u001b[39m _bincount(unique_mapping, minlength\u001b[39m=\u001b[39mnum_classes\u001b[39m*\u001b[39m\u001b[39m*\u001b[39m\u001b[39m2\u001b[39m)\n",
      "\u001b[1;31mRuntimeError\u001b[0m: Expected all tensors to be on the same device, but found at least two devices, cuda:0 and cpu!",
      "\nThe above exception was the direct cause of the following exception:\n",
      "\u001b[1;31mRuntimeError\u001b[0m                              Traceback (most recent call last)",
      "\u001b[1;32mc:\\Users\\abjawad\\Documents\\GitHub\\local-attention-model\\validation_viz.ipynb Cell 7\u001b[0m line \u001b[0;36m2\n\u001b[0;32m      <a href='vscode-notebook-cell:/c%3A/Users/abjawad/Documents/GitHub/local-attention-model/validation_viz.ipynb#W6sZmlsZQ%3D%3D?line=0'>1</a>\u001b[0m \u001b[39m# val_loss, val_mean_iou = val_cityscape(0, test_loader, model)\u001b[39;00m\n\u001b[1;32m----> <a href='vscode-notebook-cell:/c%3A/Users/abjawad/Documents/GitHub/local-attention-model/validation_viz.ipynb#W6sZmlsZQ%3D%3D?line=1'>2</a>\u001b[0m val_cityscape(\u001b[39m0\u001b[39;49m, test_loader, model)\n",
      "File \u001b[1;32m~\\Documents\\GitHub\\local-attention-model\\val_segformer_rgbonly.py:117\u001b[0m, in \u001b[0;36mval_cityscape\u001b[1;34m(epoch, val_loader, model)\u001b[0m\n\u001b[0;32m    113\u001b[0m out \u001b[39m=\u001b[39m torch\u001b[39m.\u001b[39mcat((out1, out2), dim\u001b[39m=\u001b[39m\u001b[39m3\u001b[39m)\n\u001b[0;32m    114\u001b[0m \u001b[39mprint\u001b[39m(\u001b[39m\"\u001b[39m\u001b[39mout shape: \u001b[39m\u001b[39m\"\u001b[39m, out\u001b[39m.\u001b[39mshape, out1\u001b[39m.\u001b[39mshape, out2\u001b[39m.\u001b[39mshape)\n\u001b[1;32m--> 117\u001b[0m m_iou \u001b[39m=\u001b[39m cal_mean_iou(out, gts)\n\u001b[0;32m    119\u001b[0m \u001b[39mbreak\u001b[39;00m\n\u001b[0;32m    121\u001b[0m score \u001b[39m=\u001b[39m out[\u001b[39m0\u001b[39m]      \u001b[39m#1, C, H, W --> C, H, W = 19, H, W\u001b[39;00m\n",
      "File \u001b[1;32m~\\Documents\\GitHub\\local-attention-model\\utils\\metric.py:15\u001b[0m, in \u001b[0;36mcal_mean_iou\u001b[1;34m(pred, target)\u001b[0m\n\u001b[0;32m     12\u001b[0m score \u001b[39m=\u001b[39m torch\u001b[39m.\u001b[39mexp(pred) \u001b[39m# B, C, H, W\u001b[39;00m\n\u001b[0;32m     13\u001b[0m jaccard \u001b[39m=\u001b[39m JaccardIndex(task\u001b[39m=\u001b[39m\u001b[39m\"\u001b[39m\u001b[39mmulticlass\u001b[39m\u001b[39m\"\u001b[39m, num_classes\u001b[39m=\u001b[39mscore\u001b[39m.\u001b[39mshape[\u001b[39m1\u001b[39m], ignore_index \u001b[39m=\u001b[39m \u001b[39m255\u001b[39m)\u001b[39m.\u001b[39mto(score\u001b[39m.\u001b[39mget_device())    \n\u001b[1;32m---> 15\u001b[0m mean_iou \u001b[39m=\u001b[39m jaccard(score, target)\n\u001b[0;32m     16\u001b[0m \u001b[39m# print('mean iou: ',mean_iou)\u001b[39;00m\n\u001b[0;32m     17\u001b[0m \u001b[39mreturn\u001b[39;00m mean_iou\u001b[39m.\u001b[39mdetach()\u001b[39m.\u001b[39mcpu()\u001b[39m.\u001b[39mnumpy()\n",
      "File \u001b[1;32mc:\\Users\\abjawad\\.conda\\envs\\pt_cuda\\lib\\site-packages\\torch\\nn\\modules\\module.py:1190\u001b[0m, in \u001b[0;36mModule._call_impl\u001b[1;34m(self, *input, **kwargs)\u001b[0m\n\u001b[0;32m   1186\u001b[0m \u001b[39m# If we don't have any hooks, we want to skip the rest of the logic in\u001b[39;00m\n\u001b[0;32m   1187\u001b[0m \u001b[39m# this function, and just call forward.\u001b[39;00m\n\u001b[0;32m   1188\u001b[0m \u001b[39mif\u001b[39;00m \u001b[39mnot\u001b[39;00m (\u001b[39mself\u001b[39m\u001b[39m.\u001b[39m_backward_hooks \u001b[39mor\u001b[39;00m \u001b[39mself\u001b[39m\u001b[39m.\u001b[39m_forward_hooks \u001b[39mor\u001b[39;00m \u001b[39mself\u001b[39m\u001b[39m.\u001b[39m_forward_pre_hooks \u001b[39mor\u001b[39;00m _global_backward_hooks\n\u001b[0;32m   1189\u001b[0m         \u001b[39mor\u001b[39;00m _global_forward_hooks \u001b[39mor\u001b[39;00m _global_forward_pre_hooks):\n\u001b[1;32m-> 1190\u001b[0m     \u001b[39mreturn\u001b[39;00m forward_call(\u001b[39m*\u001b[39m\u001b[39minput\u001b[39m, \u001b[39m*\u001b[39m\u001b[39m*\u001b[39mkwargs)\n\u001b[0;32m   1191\u001b[0m \u001b[39m# Do not call functions when jit is used\u001b[39;00m\n\u001b[0;32m   1192\u001b[0m full_backward_hooks, non_full_backward_hooks \u001b[39m=\u001b[39m [], []\n",
      "File \u001b[1;32mc:\\Users\\abjawad\\.conda\\envs\\pt_cuda\\lib\\site-packages\\torchmetrics\\metric.py:298\u001b[0m, in \u001b[0;36mMetric.forward\u001b[1;34m(self, *args, **kwargs)\u001b[0m\n\u001b[0;32m    296\u001b[0m     \u001b[39mself\u001b[39m\u001b[39m.\u001b[39m_forward_cache \u001b[39m=\u001b[39m \u001b[39mself\u001b[39m\u001b[39m.\u001b[39m_forward_full_state_update(\u001b[39m*\u001b[39margs, \u001b[39m*\u001b[39m\u001b[39m*\u001b[39mkwargs)\n\u001b[0;32m    297\u001b[0m \u001b[39melse\u001b[39;00m:\n\u001b[1;32m--> 298\u001b[0m     \u001b[39mself\u001b[39m\u001b[39m.\u001b[39m_forward_cache \u001b[39m=\u001b[39m \u001b[39mself\u001b[39m\u001b[39m.\u001b[39m_forward_reduce_state_update(\u001b[39m*\u001b[39margs, \u001b[39m*\u001b[39m\u001b[39m*\u001b[39mkwargs)\n\u001b[0;32m    300\u001b[0m \u001b[39mreturn\u001b[39;00m \u001b[39mself\u001b[39m\u001b[39m.\u001b[39m_forward_cache\n",
      "File \u001b[1;32mc:\\Users\\abjawad\\.conda\\envs\\pt_cuda\\lib\\site-packages\\torchmetrics\\metric.py:367\u001b[0m, in \u001b[0;36mMetric._forward_reduce_state_update\u001b[1;34m(self, *args, **kwargs)\u001b[0m\n\u001b[0;32m    364\u001b[0m \u001b[39mself\u001b[39m\u001b[39m.\u001b[39m_enable_grad \u001b[39m=\u001b[39m \u001b[39mTrue\u001b[39;00m  \u001b[39m# allow grads for batch computation\u001b[39;00m\n\u001b[0;32m    366\u001b[0m \u001b[39m# calculate batch state and compute batch value\u001b[39;00m\n\u001b[1;32m--> 367\u001b[0m \u001b[39mself\u001b[39m\u001b[39m.\u001b[39mupdate(\u001b[39m*\u001b[39margs, \u001b[39m*\u001b[39m\u001b[39m*\u001b[39mkwargs)\n\u001b[0;32m    368\u001b[0m batch_val \u001b[39m=\u001b[39m \u001b[39mself\u001b[39m\u001b[39m.\u001b[39mcompute()\n\u001b[0;32m    370\u001b[0m \u001b[39m# reduce batch and global state\u001b[39;00m\n",
      "File \u001b[1;32mc:\\Users\\abjawad\\.conda\\envs\\pt_cuda\\lib\\site-packages\\torchmetrics\\metric.py:460\u001b[0m, in \u001b[0;36mMetric._wrap_update.<locals>.wrapped_func\u001b[1;34m(*args, **kwargs)\u001b[0m\n\u001b[0;32m    458\u001b[0m     \u001b[39mexcept\u001b[39;00m \u001b[39mRuntimeError\u001b[39;00m \u001b[39mas\u001b[39;00m err:\n\u001b[0;32m    459\u001b[0m         \u001b[39mif\u001b[39;00m \u001b[39m\"\u001b[39m\u001b[39mExpected all tensors to be on\u001b[39m\u001b[39m\"\u001b[39m \u001b[39min\u001b[39;00m \u001b[39mstr\u001b[39m(err):\n\u001b[1;32m--> 460\u001b[0m             \u001b[39mraise\u001b[39;00m \u001b[39mRuntimeError\u001b[39;00m(\n\u001b[0;32m    461\u001b[0m                 \u001b[39m\"\u001b[39m\u001b[39mEncountered different devices in metric calculation (see stacktrace for details).\u001b[39m\u001b[39m\"\u001b[39m\n\u001b[0;32m    462\u001b[0m                 \u001b[39m\"\u001b[39m\u001b[39m This could be due to the metric class not being on the same device as input.\u001b[39m\u001b[39m\"\u001b[39m\n\u001b[0;32m    463\u001b[0m                 \u001b[39mf\u001b[39m\u001b[39m\"\u001b[39m\u001b[39m Instead of `metric=\u001b[39m\u001b[39m{\u001b[39;00m\u001b[39mself\u001b[39m\u001b[39m.\u001b[39m\u001b[39m__class__\u001b[39m\u001b[39m.\u001b[39m\u001b[39m__name__\u001b[39m\u001b[39m}\u001b[39;00m\u001b[39m(...)` try to do\u001b[39m\u001b[39m\"\u001b[39m\n\u001b[0;32m    464\u001b[0m                 \u001b[39mf\u001b[39m\u001b[39m\"\u001b[39m\u001b[39m `metric=\u001b[39m\u001b[39m{\u001b[39;00m\u001b[39mself\u001b[39m\u001b[39m.\u001b[39m\u001b[39m__class__\u001b[39m\u001b[39m.\u001b[39m\u001b[39m__name__\u001b[39m\u001b[39m}\u001b[39;00m\u001b[39m(...).to(device)` where\u001b[39m\u001b[39m\"\u001b[39m\n\u001b[0;32m    465\u001b[0m                 \u001b[39m\"\u001b[39m\u001b[39m device corresponds to the device of the input.\u001b[39m\u001b[39m\"\u001b[39m\n\u001b[0;32m    466\u001b[0m             ) \u001b[39mfrom\u001b[39;00m \u001b[39merr\u001b[39;00m\n\u001b[0;32m    467\u001b[0m         \u001b[39mraise\u001b[39;00m err\n\u001b[0;32m    469\u001b[0m \u001b[39mif\u001b[39;00m \u001b[39mself\u001b[39m\u001b[39m.\u001b[39mcompute_on_cpu:\n",
      "\u001b[1;31mRuntimeError\u001b[0m: Encountered different devices in metric calculation (see stacktrace for details). This could be due to the metric class not being on the same device as input. Instead of `metric=MulticlassJaccardIndex(...)` try to do `metric=MulticlassJaccardIndex(...).to(device)` where device corresponds to the device of the input."
     ]
    }
   ],
   "source": [
    "# val_loss, val_mean_iou = val_cityscape(0, test_loader, model)\n",
    "val_cityscape(0, test_loader, model)"
   ]
  }
 ],
 "metadata": {
  "kernelspec": {
   "display_name": "pt_cuda",
   "language": "python",
   "name": "python3"
  },
  "language_info": {
   "codemirror_mode": {
    "name": "ipython",
    "version": 3
   },
   "file_extension": ".py",
   "mimetype": "text/x-python",
   "name": "python",
   "nbconvert_exporter": "python",
   "pygments_lexer": "ipython3",
   "version": "3.10.13"
  }
 },
 "nbformat": 4,
 "nbformat_minor": 2
}
