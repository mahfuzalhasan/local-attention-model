{
 "cells": [
  {
   "cell_type": "code",
   "execution_count": null,
   "metadata": {},
   "outputs": [],
   "source": [
    "# run the script initnotebook.py in the cuurent folder\n",
    "# Error when run multiple times becasue the directory changed\n",
    "%run initnotebook.py"
   ]
  },
  {
   "cell_type": "code",
   "execution_count": null,
   "metadata": {},
   "outputs": [],
   "source": [
    "\n",
    "import torch\n",
    "from  torch.utils.data import DataLoader\n",
    "import torch.nn as nn\n",
    "from models.builder import EncoderDecoder as segmodel\n",
    "from dataloader.cfg_defaults import get_cfg_defaults\n",
    "from utils.lr_policy import WarmUpPolyLR\n",
    "from utils.init_func import init_weight, group_weight\n",
    "from config_cityscapes import *\n",
    "import yaml\n",
    "import os\n",
    "from dataloader.cityscapes_dataloader import CityscapesDataset"
   ]
  },
  {
   "cell_type": "code",
   "execution_count": null,
   "metadata": {},
   "outputs": [],
   "source": [
    "config_path = 'dataloader/cityscapes_rgbd_config.yaml'\n",
    "config_path = os.path.join(projectFolder, config_path)\n",
    "\n",
    "\n",
    "cfg = get_cfg_defaults()\n",
    "cfg.merge_from_file(config_path)\n",
    "cfg.freeze()\n",
    "\n",
    "data_mean = [0.291,  0.329,  0.291]\n",
    "data_std = [0.190,  0.190,  0.185]"
   ]
  },
  {
   "cell_type": "code",
   "execution_count": null,
   "metadata": {},
   "outputs": [],
   "source": [
    "cityscapes_train = CityscapesDataset(cfg, split='train')\n",
    "train_loader = DataLoader(cityscapes_train, batch_size=4, shuffle=True, num_workers=4, drop_last=True)\n",
    "print(f'total train: {len(cityscapes_train)} t_iteration:{len(train_loader)}')\n",
    "\n",
    "cityscapes_val = CityscapesDataset(cfg, split='val')\n",
    "val_loader = DataLoader(cityscapes_val, batch_size=1, shuffle=False, num_workers=4)\n",
    "print(f'total val: {len(cityscapes_val)} v_iteration:{len(val_loader)}')"
   ]
  },
  {
   "cell_type": "markdown",
   "metadata": {},
   "source": [
    "#### Visualiz Image "
   ]
  },
  {
   "cell_type": "code",
   "execution_count": null,
   "metadata": {},
   "outputs": [],
   "source": [
    "import matplotlib.pyplot as plt\n",
    "import numpy as np\n",
    "\n",
    "# Access the first batch from the DataLoader\n",
    "for batch in train_loader:\n",
    "    images = batch['image']\n",
    "\n",
    "    # Process each image in the batch\n",
    "    for i in range(images.shape[0]):\n",
    "        img = images[i].numpy().transpose((1, 2, 0))\n",
    "        img *= data_std\n",
    "        img += data_mean\n",
    "\n",
    "        print(img.shape)\n",
    "        # Plot the image in the subplot\n",
    "        plt.subplot(1, 4, i + 1)  # 1 row, 4 columns, i+1 is the current subplot\n",
    "        plt.imshow(img)\n",
    "        plt.axis('off')\n",
    "\n",
    "    plt.show()\n",
    "\n",
    "    # Break the loop after the first batch\n",
    "    break\n"
   ]
  },
  {
   "cell_type": "code",
   "execution_count": null,
   "metadata": {},
   "outputs": [],
   "source": [
    "# write some error to stop notebook at this point\n",
    "assert False, \"Stop notebook here\""
   ]
  }
 ],
 "metadata": {
  "kernelspec": {
   "display_name": "Python 3.7.12 ('kd')",
   "language": "python",
   "name": "python3"
  },
  "language_info": {
   "codemirror_mode": {
    "name": "ipython",
    "version": 3
   },
   "file_extension": ".py",
   "mimetype": "text/x-python",
   "name": "python",
   "nbconvert_exporter": "python",
   "pygments_lexer": "ipython3",
   "version": "3.7.12"
  },
  "vscode": {
   "interpreter": {
    "hash": "66b0eddc0ca26ac79243e01bd432655b9cdc32e4a7caaae718be8d5356f78606"
   }
  }
 },
 "nbformat": 4,
 "nbformat_minor": 2
}
