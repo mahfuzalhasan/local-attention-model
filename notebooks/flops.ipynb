{
 "cells": [
  {
   "cell_type": "code",
   "execution_count": 3,
   "metadata": {},
   "outputs": [
    {
     "name": "stdout",
     "output_type": "stream",
     "text": [
      "current working dir/home/abjawad/Documents/GitHub/local-attention-model\n"
     ]
    }
   ],
   "source": [
    "exec(open(\"init_notebook.py\", \"r\").read())"
   ]
  },
  {
   "cell_type": "code",
   "execution_count": 4,
   "metadata": {},
   "outputs": [
    {
     "name": "stdout",
     "output_type": "stream",
     "text": [
      "[Warning] Fused window process have not been installed. Please refer to get_started.md for installation.\n"
     ]
    }
   ],
   "source": [
    "from models.swin_transformer import PatchEmbed\n",
    "from models.encoders.student_segformer import OverlapPatchEmbed, Mlp, DWConv, Block\n",
    "from models.encoders.merge_attn import MultiScaleAttention\n",
    "import torch"
   ]
  },
  {
   "cell_type": "code",
   "execution_count": 5,
   "metadata": {},
   "outputs": [
    {
     "name": "stdout",
     "output_type": "stream",
     "text": [
      "merge attn multiscale attention  64 2 False None 0.0 0.0 8 [8, 16] (256, 256)\n",
      "merge attn multiscale attention  64 2 True None 0 0 8 [8, 16] (256, 256)\n",
      "====== block ====== 64 2 4 True None 0 0 0 <class 'torch.nn.modules.activation.GELU'> <class 'torch.nn.modules.normalization.LayerNorm'> 8 [8, 16] (256, 256)\n"
     ]
    }
   ],
   "source": [
    "swin_patch_embed = PatchEmbed(img_size=224, \n",
    "                              patch_size=4, \n",
    "                              in_chans=3, \n",
    "                              embed_dim=96, \n",
    "                              norm_layer=None)\n",
    "\n",
    "overlap_patch_embed = OverlapPatchEmbed(patch_size=7, \n",
    "                                        stride=4, \n",
    "                                        in_chans=3, \n",
    "                                        embed_dim=64)\n",
    "\n",
    "mlp = Mlp(in_features=64,\n",
    "          hidden_features=64*4,\n",
    "          act_layer=torch.nn.GELU,\n",
    "          drop=0)\n",
    "\n",
    "multiscale_attn = MultiScaleAttention(dim=64,\n",
    "                                      num_heads=2,\n",
    "                                      sr_ratio=8,\n",
    "                                      local_region_shape=[8, 16],\n",
    "                                      img_size=(256, 256)) \n",
    "\n",
    "block = Block(dim=64,\n",
    "              num_heads=2, \n",
    "              mlp_ratio=4,\n",
    "              qkv_bias=True,\n",
    "              qk_scale=None,\n",
    "              drop=0,\n",
    "              attn_drop=0, \n",
    "              drop_path=0,\n",
    "              norm_layer=torch.nn.LayerNorm,\n",
    "              sr_ratio=8,\n",
    "              local_region_shape=[8, 16],\n",
    "              img_size=(256, 256))\n",
    "\n",
    "\n"
   ]
  },
  {
   "cell_type": "code",
   "execution_count": 6,
   "metadata": {},
   "outputs": [
    {
     "name": "stdout",
     "output_type": "stream",
     "text": [
      "\n",
      " %%%% x proj: torch.Size([1, 96, 56, 56])%%%%%%%\n",
      "x flatten: torch.Size([1, 96, 3136])\n",
      "input: MLP  torch.Size([1, 65536, 64]) 256 256\n",
      "!!!!!!!!!!!!attention head:  2  !!!!!!!!!!\n",
      "torch.Size([1, 65536, 64]) 256 256\n",
      "!!!!!!!!!!!!attention head:  2  !!!!!!!!!!\n",
      "torch.Size([1, 65536, 64]) 256 256\n",
      "input: MLP  torch.Size([1, 65536, 64]) 256 256\n",
      "14450688\n",
      "616562688.0\n",
      "4596957184\n",
      "40640\n"
     ]
    }
   ],
   "source": [
    "# craete random input and pass through the model\n",
    "x_1 = torch.rand(1, 3, 224, 224)\n",
    "y_1 = swin_patch_embed(x_1)\n",
    "\n",
    "x_2 = torch.rand(1, 3, 1024, 1024)\n",
    "y_2 = overlap_patch_embed(x_2)\n",
    "\n",
    "x_3, h, w = torch.rand(1, 65536, 64), 256, 256\n",
    "y_3 = mlp(x_3, h, w)\n",
    "\n",
    "x_4 = torch.rand(1, 65536, 64)\n",
    "y_4 = multiscale_attn(x_4, 256, 256)\n",
    "\n",
    "x_5 = torch.rand(1, 65536, 64)\n",
    "y_5 = block(x_5, 256, 256)\n",
    "\n",
    "print(swin_patch_embed.flops())\n",
    "print(overlap_patch_embed.flops())\n",
    "print(mlp.flops())\n",
    "print(multiscale_attn.flops())"
   ]
  },
  {
   "cell_type": "markdown",
   "metadata": {},
   "source": [
    "##### self.patch_embed1 = OverlapPatchEmbed(patch_size=7, stride=4, in_chans=in_chans, embed_dim=64)\n",
    "\n",
    "##### input:  torch.Size([1, 3, 1024, 1024])\n",
    "##### ############### Stage 1 ##########################\n",
    "##### tokenization:  torch.Size([1, 65536, 64])\n",
    "##### output:  torch.Size([1, 64, 256, 256])\n",
    "##### ******** End Stage 1 **************\n",
    "##### ############### Stage 2 ##########################\n",
    "##### :  torch.Size([1, 16384, 128])\n",
    "##### output:  torch.Size([1, 128, 128, 128])\n",
    "##### ******** End Stage 2 **************\n",
    "##### ############### Stage 3 ##########################\n",
    "##### tokenization:  torch.Size([1, 4096, 320])\n",
    "##### output:  torch.Size([1, 320, 64, 64])\n",
    "##### ******** End Stage 3 **************\n",
    "##### ############### Stage 4 ##########################\n",
    "##### tokenization:  torch.Size([1, 1024, 512])\n",
    "##### output:  torch.Size([1, 512, 32, 32])\n",
    "##### ******** End Stage 4 **************"
   ]
  },
  {
   "cell_type": "code",
   "execution_count": null,
   "metadata": {},
   "outputs": [],
   "source": []
  },
  {
   "cell_type": "code",
   "execution_count": null,
   "metadata": {},
   "outputs": [],
   "source": []
  }
 ],
 "metadata": {
  "kernelspec": {
   "display_name": "kd",
   "language": "python",
   "name": "python3"
  },
  "language_info": {
   "codemirror_mode": {
    "name": "ipython",
    "version": 3
   },
   "file_extension": ".py",
   "mimetype": "text/x-python",
   "name": "python",
   "nbconvert_exporter": "python",
   "pygments_lexer": "ipython3",
   "version": "3.7.12"
  }
 },
 "nbformat": 4,
 "nbformat_minor": 2
}
