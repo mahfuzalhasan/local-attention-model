{
 "cells": [
  {
   "cell_type": "code",
   "execution_count": 1,
   "metadata": {},
   "outputs": [
    {
     "name": "stdout",
     "output_type": "stream",
     "text": [
      "current working dir/home/abjawad/Documents/GitHub/local-attention-model\n"
     ]
    }
   ],
   "source": [
    "exec(open(\"init_notebook.py\", \"r\").read())"
   ]
  },
  {
   "cell_type": "code",
   "execution_count": 2,
   "metadata": {},
   "outputs": [
    {
     "name": "stdout",
     "output_type": "stream",
     "text": [
      "[Warning] Fused window process have not been installed. Please refer to get_started.md for installation.\n"
     ]
    }
   ],
   "source": [
    "from models.swin_transformer import PatchEmbed\n",
    "from models.encoders.student_segformer import OverlapPatchEmbed"
   ]
  },
  {
   "cell_type": "code",
   "execution_count": 3,
   "metadata": {},
   "outputs": [],
   "source": [
    "swin_patch_embed = PatchEmbed(img_size=224, \n",
    "                              patch_size=4, \n",
    "                              in_chans=3, \n",
    "                              embed_dim=96, \n",
    "                              norm_layer=None)\n",
    "\n",
    "overlap_patch_embed = OverlapPatchEmbed(patch_size=7, \n",
    "                                        stride=4, \n",
    "                                        in_chans=3, \n",
    "                                        embed_dim=768)\n"
   ]
  },
  {
   "cell_type": "markdown",
   "metadata": {},
   "source": [
    "##### self.patch_embed1 = OverlapPatchEmbed(patch_size=7, stride=4, in_chans=in_chans, embed_dim=64)\n",
    "\n",
    "##### input:  torch.Size([1, 3, 1024, 1024])\n",
    "##### ############### Stage 1 ##########################\n",
    "##### tokenization:  torch.Size([1, 65536, 64])\n",
    "##### output:  torch.Size([1, 64, 256, 256])\n",
    "##### ******** End Stage 1 **************\n",
    "##### ############### Stage 2 ##########################\n",
    "##### :  torch.Size([1, 16384, 128])\n",
    "##### output:  torch.Size([1, 128, 128, 128])\n",
    "##### ******** End Stage 2 **************\n",
    "##### ############### Stage 3 ##########################\n",
    "##### tokenization:  torch.Size([1, 4096, 320])\n",
    "##### output:  torch.Size([1, 320, 64, 64])\n",
    "##### ******** End Stage 3 **************\n",
    "##### ############### Stage 4 ##########################\n",
    "##### tokenization:  torch.Size([1, 1024, 512])\n",
    "##### output:  torch.Size([1, 512, 32, 32])\n",
    "##### ******** End Stage 4 **************"
   ]
  },
  {
   "cell_type": "code",
   "execution_count": 4,
   "metadata": {},
   "outputs": [
    {
     "name": "stdout",
     "output_type": "stream",
     "text": [
      "14450688\n",
      "119990648832\n"
     ]
    }
   ],
   "source": [
    "print(swin_patch_embed.flops())\n",
    "print(overlap_patch_embed.flops(1024, 1024))"
   ]
  },
  {
   "cell_type": "code",
   "execution_count": null,
   "metadata": {},
   "outputs": [],
   "source": []
  }
 ],
 "metadata": {
  "kernelspec": {
   "display_name": "kd",
   "language": "python",
   "name": "python3"
  },
  "language_info": {
   "codemirror_mode": {
    "name": "ipython",
    "version": 3
   },
   "file_extension": ".py",
   "mimetype": "text/x-python",
   "name": "python",
   "nbconvert_exporter": "python",
   "pygments_lexer": "ipython3",
   "version": "3.7.12"
  }
 },
 "nbformat": 4,
 "nbformat_minor": 2
}
