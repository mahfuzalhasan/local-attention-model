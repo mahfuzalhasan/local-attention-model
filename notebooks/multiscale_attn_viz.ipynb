{
 "cells": [
  {
   "cell_type": "code",
   "execution_count": null,
   "metadata": {},
   "outputs": [],
   "source": [
    "# run the script initnotebook.py in the cuurent folder\n",
    "# Error when run multiple times becasue the directory changed\n",
    "%run initnotebook.py"
   ]
  },
  {
   "cell_type": "markdown",
   "metadata": {},
   "source": [
    "##### ModuleNotFoundError: No module named 'stoken_attn_fusion' -> add . in the based script. \n",
    "from .stoken_attn_fusion import StokenAttention, StokenAttentionLayer"
   ]
  },
  {
   "cell_type": "code",
   "execution_count": null,
   "metadata": {},
   "outputs": [],
   "source": [
    "import torch\n",
    "from models.encoders.multi_scale_attention import MultiScaleAttention\n",
    "from models.encoders.stoken_attn_fusion import StokenAttention \n",
    "import matplotlib.pyplot as plt"
   ]
  },
  {
   "cell_type": "code",
   "execution_count": null,
   "metadata": {},
   "outputs": [],
   "source": [
    "def plot_batch_images(batch_index, f, y):\n",
    "    # Extract the tensors for the given batch index\n",
    "    f_batch = f[batch_index]\n",
    "    y_batch = y[batch_index]\n",
    "\n",
    "    # Reshape and calculate mean for f\n",
    "    arr_f = f_batch.permute(1, 0)\n",
    "    arr_f = torch.mean(arr_f, dim=0)\n",
    "    arr_f = arr_f.reshape(120, 160)\n",
    "\n",
    "    # Reshape and calculate mean for y\n",
    "    arr_y = y_batch.permute(1, 0)\n",
    "    arr_y = torch.mean(arr_y, dim=0)\n",
    "    arr_y = arr_y.reshape(120, 160)\n",
    "\n",
    "    # Create a row of two subplots\n",
    "    fig, axes = plt.subplots(1, 2, figsize=(15, 5))\n",
    "\n",
    "    # Plot f\n",
    "    axes[0].imshow(arr_f.detach().numpy(), cmap='viridis')\n",
    "    axes[0].set_title('f (Batch {})'.format(batch_index))\n",
    "    axes[0].axis('off')\n",
    "\n",
    "    # Plot y\n",
    "    axes[1].imshow(arr_y.detach().numpy(), cmap='viridis')\n",
    "    axes[1].set_title('y (Batch {})'.format(batch_index))\n",
    "    axes[1].axis('off')\n",
    "\n",
    "    plt.show()\n",
    "\n",
    "\n",
    "\n",
    "def plot_images_in_row(x_s, x_l, y):\n",
    "    # Take the mean across channels for each image\n",
    "    x_s_mean = torch.mean(x_s, dim=1, keepdim=True)\n",
    "    x_l_mean = torch.mean(x_l, dim=1, keepdim=True)\n",
    "    y_mean = torch.mean(y, dim=1, keepdim=True)\n",
    "\n",
    "    y_mean = y_mean.squeeze().cpu().detach().numpy()\n",
    "\n",
    "    fig, axes = plt.subplots(1, 3, figsize=(15, 5))  # Create a row of three subplots\n",
    "\n",
    "    # Plot x_s\n",
    "    axes[0].imshow(x_s_mean.squeeze().cpu().numpy(), cmap='viridis')\n",
    "    axes[0].set_title('Mean of x_s')\n",
    "    axes[0].axis('off')\n",
    "\n",
    "    # Plot x_l\n",
    "    axes[1].imshow(x_l_mean.squeeze().cpu().numpy(), cmap='viridis')\n",
    "    axes[1].set_title('Mean of x_l')\n",
    "    axes[1].axis('off')\n",
    "\n",
    "    # Plot y\n",
    "    axes[2].imshow(y_mean, cmap='viridis')\n",
    "    axes[2].set_title('Mean of y')\n",
    "    axes[2].axis('off')\n",
    "\n",
    "    plt.show()\n",
    "\n",
    "\n",
    "\n",
    "def take_mean_of_channels(x):\n",
    "    return torch.mean(x, dim=1, keepdim=True)"
   ]
  },
  {
   "cell_type": "code",
   "execution_count": null,
   "metadata": {},
   "outputs": [],
   "source": [
    "B = 4\n",
    "C = 3\n",
    "H = 120\n",
    "W = 160\n",
    "device = 'cpu'\n",
    "ms_attention = MultiScaleAttention(32, num_heads=4, sr_ratio=8, local_region_shape=[20])\n",
    "ms_attention = ms_attention.to(device)\n",
    "# ms_attention = nn.DataParallel(ms_attention, device_ids = [0,1])\n",
    "# ms_attention.to(f'cuda:{ms_attention.device_ids[0]}', non_blocking=True)\n",
    "\n",
    "f = torch.randn(B, 19200, 32).to(device)\n",
    "print(f'input to multiScaleAttention:{f.shape}')\n",
    "y = ms_attention(f, 120, 160)\n",
    "print('output: ',y.shape)\n",
    "\n",
    "plot_batch_images(1, f, y)"
   ]
  },
  {
   "cell_type": "code",
   "execution_count": null,
   "metadata": {},
   "outputs": [],
   "source": [
    "\n",
    "\n",
    "\n",
    "B = 1\n",
    "C = 32\n",
    "H = 120\n",
    "W = 160\n",
    "x_s = torch.randn(B, C, H, W)\n",
    "x_l = torch.randn(B, C, H, W)\n",
    "\n",
    "# x_s = torch.full((B, C, H, W), 1.0)\n",
    "# x_l = torch.full((B, C, H, W), 0.1)\n",
    "\n",
    "attn_fusion = StokenAttention(dim=32, sp_stoken_size=(5,5), lp_stoken_size=(10,10))\n",
    "print(f'input to stokenAttention: x_s:{x_s.shape}, x_l:{x_l.shape}')\n",
    "y = attn_fusion(x_s, x_l)\n",
    "print('output: ',y.shape)\n",
    "\n",
    "plot_images_in_row(x_s, x_l, y)"
   ]
  }
 ],
 "metadata": {
  "kernelspec": {
   "display_name": "Python 3.7.12 ('kd')",
   "language": "python",
   "name": "python3"
  },
  "language_info": {
   "codemirror_mode": {
    "name": "ipython",
    "version": 3
   },
   "file_extension": ".py",
   "mimetype": "text/x-python",
   "name": "python",
   "nbconvert_exporter": "python",
   "pygments_lexer": "ipython3",
   "version": "3.7.12"
  },
  "orig_nbformat": 4,
  "vscode": {
   "interpreter": {
    "hash": "66b0eddc0ca26ac79243e01bd432655b9cdc32e4a7caaae718be8d5356f78606"
   }
  }
 },
 "nbformat": 4,
 "nbformat_minor": 2
}
