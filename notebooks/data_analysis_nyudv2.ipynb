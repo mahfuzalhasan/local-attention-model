{
 "cells": [
  {
   "cell_type": "code",
   "execution_count": 26,
   "metadata": {},
   "outputs": [],
   "source": [
    "import os\n",
    "from PIL import Image\n",
    "import scipy.io\n",
    "import numpy as np\n",
    "import matplotlib.pyplot as plt\n"
   ]
  },
  {
   "cell_type": "code",
   "execution_count": null,
   "metadata": {},
   "outputs": [],
   "source": [
    "class DatasetReader:\n",
    "    def __init__(self, dataset_dir):\n",
    "        self.dataset_dir = dataset_dir\n",
    "        self.colored_level = 'ColoredLabel'\n",
    "        self.depth_level = 'Depth'\n",
    "        self.hha = 'HHA'\n",
    "        self.label = 'Label'\n",
    "        self.rgb = 'RGB'\n",
    "        self.splits = 'splits.mat'\n",
    "\n",
    "    # def read_images(self, path, ids):\n",
    "    #     images = []\n",
    "    #     for id in ids:\n",
    "    #         img_path = os.path.join(path, f\"{id}.jpg\") # modify the extension based on your need\n",
    "    #         if os.path.exists(img_path):\n",
    "    #             img = Image.open(img_path)\n",
    "    #             images.append(img)\n",
    "    #     return images\n",
    "\n",
    "    # def read_npy(self, path, ids):\n",
    "    #     depths = []\n",
    "    #     for id in ids:\n",
    "    #         depth_path = os.path.join(path, f\"{id}.npy\")\n",
    "    #         if os.path.exists(depth_path):\n",
    "    #             depth = np.load(depth_path)\n",
    "    #             depths.append(depth)\n",
    "    #     return depths\n",
    "\n",
    "    # def get_data(self, ids):\n",
    "    #     paths = {\n",
    "    #         'colored_level': os.path.join(self.dataset_dir, self.colored_level),\n",
    "    #         'depth_level': os.path.join(self.dataset_dir, self.depth_level),\n",
    "    #         'hha': os.path.join(self.dataset_dir, self.hha),\n",
    "    #         'label': os.path.join(self.dataset_dir, self.label),\n",
    "    #         'rgb': os.path.join(self.dataset_dir, self.rgb)\n",
    "    #     }\n",
    "\n",
    "    #     data = {}\n",
    "    #     for id in ids:\n",
    "    #         data[id] = [self.read_images(paths[key], [id]) if key != 'depth_level' else self.read_npy(paths[key], [id]) for key in paths.keys()]\n",
    "    #     return data\n",
    "\n",
    "    \n",
    "\n"
   ]
  },
  {
   "cell_type": "code",
   "execution_count": 49,
   "metadata": {},
   "outputs": [],
   "source": [
    "def read_images(path, num_images):\n",
    "    images = []\n",
    "    for filename in os.listdir(path):\n",
    "        img = Image.open(os.path.join(path, filename))\n",
    "        if img is not None:\n",
    "            images.append(img)\n",
    "        if len(images) == num_images:\n",
    "            break\n",
    "    return images\n",
    "\n",
    "def display_images(images):\n",
    "    # Display the images\n",
    "    fig = plt.figure(figsize=(10, 10))\n",
    "    for i, img in enumerate(images, 1):\n",
    "        fig.add_subplot(1, len(images), i)\n",
    "        plt.imshow(img)\n",
    "        plt.axis('off')\n",
    "    plt.show()\n",
    "\n",
    "def read_npy(path, num_images):\n",
    "    depth = []\n",
    "    for filename in os.listdir(path):\n",
    "        img = np.load(os.path.join(path, filename))\n",
    "        if img is not None:\n",
    "            depth.append(img)\n",
    "        if len(depth) == num_images:\n",
    "            break\n",
    "    return depth"
   ]
  },
  {
   "cell_type": "code",
   "execution_count": null,
   "metadata": {},
   "outputs": [],
   "source": [
    "data_id = 0\n",
    "\n",
    "# Read the images\n"
   ]
  }
 ],
 "metadata": {
  "kernelspec": {
   "display_name": "Python 3",
   "language": "python",
   "name": "python3"
  },
  "language_info": {
   "codemirror_mode": {
    "name": "ipython",
    "version": 3
   },
   "file_extension": ".py",
   "mimetype": "text/x-python",
   "name": "python",
   "nbconvert_exporter": "python",
   "pygments_lexer": "ipython3",
   "version": "3.7.7"
  },
  "orig_nbformat": 4
 },
 "nbformat": 4,
 "nbformat_minor": 2
}
