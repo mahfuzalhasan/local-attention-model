{
 "cells": [
  {
   "cell_type": "code",
   "execution_count": 4,
   "metadata": {},
   "outputs": [],
   "source": [
    "import torch\n",
    "from multi_scale_attention import MultiScaleAttention"
   ]
  },
  {
   "cell_type": "code",
   "execution_count": 5,
   "metadata": {},
   "outputs": [
    {
     "name": "stdout",
     "output_type": "stream",
     "text": [
      "input to multiScaleAttention:torch.Size([4, 19200, 32])\n",
      "output:  torch.Size([4, 19200, 32])\n"
     ]
    }
   ],
   "source": [
    "B = 4\n",
    "C = 3\n",
    "H = 480\n",
    "W = 640\n",
    "device = 'cpu'\n",
    "ms_attention = MultiScaleAttention(32, num_heads=4, sr_ratio=8, local_region_shape=[5,10,20,40])\n",
    "ms_attention = ms_attention.to(device)\n",
    "# ms_attention = nn.DataParallel(ms_attention, device_ids = [0,1])\n",
    "# ms_attention.to(f'cuda:{ms_attention.device_ids[0]}', non_blocking=True)\n",
    "\n",
    "f = torch.randn(B, 19200, 32).to(device)\n",
    "print(f'input to multiScaleAttention:{f.shape}')\n",
    "y = ms_attention(f, 120, 160)\n",
    "print('output: ',y.shape)"
   ]
  },
  {
   "cell_type": "code",
   "execution_count": 14,
   "metadata": {},
   "outputs": [
    {
     "name": "stdout",
     "output_type": "stream",
     "text": [
      "3686400\n",
      "2457600\n",
      "614400\n"
     ]
    }
   ],
   "source": [
    "print(H//4*W//4*C*B*16)\n",
    "print(4*19200*32)\n",
    "\n",
    "print(120*160*32)"
   ]
  }
 ],
 "metadata": {
  "kernelspec": {
   "display_name": "pt",
   "language": "python",
   "name": "python3"
  },
  "language_info": {
   "codemirror_mode": {
    "name": "ipython",
    "version": 3
   },
   "file_extension": ".py",
   "mimetype": "text/x-python",
   "name": "python",
   "nbconvert_exporter": "python",
   "pygments_lexer": "ipython3",
   "version": "3.10.13"
  },
  "orig_nbformat": 4
 },
 "nbformat": 4,
 "nbformat_minor": 2
}
